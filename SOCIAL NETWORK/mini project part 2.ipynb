{
 "cells": [
  {
   "cell_type": "code",
   "execution_count": 19,
   "id": "81473889",
   "metadata": {},
   "outputs": [],
   "source": [
    "import pandas as pd\n",
    "import networkx as nx\n",
    "import warnings"
   ]
  },
  {
   "cell_type": "code",
   "execution_count": 4,
   "id": "468f7edc",
   "metadata": {},
   "outputs": [
    {
     "data": {
      "text/html": [
       "<div>\n",
       "<style scoped>\n",
       "    .dataframe tbody tr th:only-of-type {\n",
       "        vertical-align: middle;\n",
       "    }\n",
       "\n",
       "    .dataframe tbody tr th {\n",
       "        vertical-align: top;\n",
       "    }\n",
       "\n",
       "    .dataframe thead th {\n",
       "        text-align: right;\n",
       "    }\n",
       "</style>\n",
       "<table border=\"1\" class=\"dataframe\">\n",
       "  <thead>\n",
       "    <tr style=\"text-align: right;\">\n",
       "      <th></th>\n",
       "      <th>From</th>\n",
       "      <th>To</th>\n",
       "    </tr>\n",
       "  </thead>\n",
       "  <tbody>\n",
       "    <tr>\n",
       "      <th>0</th>\n",
       "      <td>Clinton</td>\n",
       "      <td>Hillary</td>\n",
       "    </tr>\n",
       "    <tr>\n",
       "      <th>1</th>\n",
       "      <td>Bush</td>\n",
       "      <td>Laura</td>\n",
       "    </tr>\n",
       "    <tr>\n",
       "      <th>2</th>\n",
       "      <td>Obama</td>\n",
       "      <td>Michelle</td>\n",
       "    </tr>\n",
       "    <tr>\n",
       "      <th>3</th>\n",
       "      <td>Trump</td>\n",
       "      <td>Ivanka</td>\n",
       "    </tr>\n",
       "    <tr>\n",
       "      <th>4</th>\n",
       "      <td>Clinton</td>\n",
       "      <td>G.Bush</td>\n",
       "    </tr>\n",
       "  </tbody>\n",
       "</table>\n",
       "</div>"
      ],
      "text/plain": [
       "      From        To\n",
       "0  Clinton   Hillary\n",
       "1     Bush     Laura\n",
       "2    Obama  Michelle\n",
       "3    Trump    Ivanka\n",
       "4  Clinton   G.Bush "
      ]
     },
     "execution_count": 4,
     "metadata": {},
     "output_type": "execute_result"
    }
   ],
   "source": [
    "df=pd.read_csv(\"us_edgelist.csv\")\n",
    "df.head()"
   ]
  },
  {
   "cell_type": "code",
   "execution_count": 7,
   "id": "d55ee9c8",
   "metadata": {},
   "outputs": [],
   "source": [
    "#read our edgelist\n",
    "us_graph=nx.from_pandas_edgelist(df,source=\"From\",target=\"To\")"
   ]
  },
  {
   "cell_type": "code",
   "execution_count": 8,
   "id": "626ab2a0",
   "metadata": {},
   "outputs": [
    {
     "data": {
      "text/plain": [
       "networkx.classes.graph.Graph"
      ]
     },
     "execution_count": 8,
     "metadata": {},
     "output_type": "execute_result"
    }
   ],
   "source": [
    "type(us_graph)"
   ]
  },
  {
   "cell_type": "code",
   "execution_count": 9,
   "id": "72cde0fd",
   "metadata": {},
   "outputs": [
    {
     "data": {
      "text/plain": [
       "'Name: \\nType: Graph\\nNumber of nodes: 19\\nNumber of edges: 21\\nAverage degree:   2.2105'"
      ]
     },
     "execution_count": 9,
     "metadata": {},
     "output_type": "execute_result"
    }
   ],
   "source": [
    "#info\n",
    "nx.info(us_graph)"
   ]
  },
  {
   "cell_type": "code",
   "execution_count": 10,
   "id": "811d46b0",
   "metadata": {},
   "outputs": [
    {
     "data": {
      "text/plain": [
       "NodeView(('Clinton', 'Hillary', 'Bush', 'Laura', 'Obama', 'Michelle', 'Trump', ' Ivanka', ' G.Bush ', 'Dole', 'Al Gore', 'Kerry', 'McCain', 'Romney', 'Bill', 'Ivanka', 'J. Thorn', 'T.Aitcheson', '\\tCindy'))"
      ]
     },
     "execution_count": 10,
     "metadata": {},
     "output_type": "execute_result"
    }
   ],
   "source": [
    "#check all nodes /object\n",
    "us_graph.nodes()"
   ]
  },
  {
   "cell_type": "code",
   "execution_count": 11,
   "id": "563fe40f",
   "metadata": {},
   "outputs": [
    {
     "data": {
      "text/plain": [
       "19"
      ]
     },
     "execution_count": 11,
     "metadata": {},
     "output_type": "execute_result"
    }
   ],
   "source": [
    "len(us_graph.nodes())"
   ]
  },
  {
   "cell_type": "code",
   "execution_count": 12,
   "id": "db4fc17d",
   "metadata": {},
   "outputs": [
    {
     "data": {
      "text/plain": [
       "EdgeView([('Clinton', 'Hillary'), ('Clinton', ' G.Bush '), ('Clinton', 'Dole'), ('Hillary', 'Trump'), ('Hillary', 'Laura'), ('Hillary', 'Michelle'), ('Bush', 'Laura'), ('Bush', 'Al Gore'), ('Bush', 'Kerry'), ('Bush', 'Bill'), ('Bush', 'Obama'), ('Laura', 'Michelle'), ('Obama', 'Michelle'), ('Obama', 'McCain'), ('Obama', 'Romney'), ('Obama', 'Trump'), ('Michelle', 'Ivanka'), ('Trump', ' Ivanka'), ('Al Gore', 'T.Aitcheson'), ('Kerry', 'J. Thorn'), ('McCain', '\\tCindy')])"
      ]
     },
     "execution_count": 12,
     "metadata": {},
     "output_type": "execute_result"
    }
   ],
   "source": [
    "#check all edges/connecions\n",
    "us_graph.edges()"
   ]
  },
  {
   "cell_type": "code",
   "execution_count": 14,
   "id": "a947af0c",
   "metadata": {},
   "outputs": [
    {
     "data": {
      "text/plain": [
       "21"
      ]
     },
     "execution_count": 14,
     "metadata": {},
     "output_type": "execute_result"
    }
   ],
   "source": [
    "len(us_graph.edges())"
   ]
  },
  {
   "cell_type": "code",
   "execution_count": 15,
   "id": "06b0d422",
   "metadata": {},
   "outputs": [
    {
     "data": {
      "text/plain": [
       "NodeView(('Clinton', 'Hillary', 'Bush', 'Laura', 'Obama', 'Michelle', 'Trump', ' Ivanka', ' G.Bush ', 'Dole', 'Al Gore', 'Kerry', 'McCain', 'Romney', 'Bill', 'Ivanka', 'J. Thorn', 'T.Aitcheson', '\\tCindy', 'Franklin', 'Lincoln'))"
      ]
     },
     "execution_count": 15,
     "metadata": {},
     "output_type": "execute_result"
    }
   ],
   "source": [
    "us_graph.add_edge(\"Franklin\",\"Lincoln\")\n",
    "us_graph.nodes()"
   ]
  },
  {
   "cell_type": "code",
   "execution_count": null,
   "id": "f0f3af23",
   "metadata": {},
   "outputs": [],
   "source": [
    "!pip install decorator==4.3"
   ]
  },
  {
   "cell_type": "code",
   "execution_count": null,
   "id": "1773f2f5",
   "metadata": {},
   "outputs": [],
   "source": [
    "###visualization\n",
    "#nx.draw\n",
    "#nx.draw_networkx\n",
    "\n",
    "import matplotlib.pyplot as plt\n",
    "%matplotlib inline\n"
   ]
  },
  {
   "cell_type": "code",
   "execution_count": null,
   "id": "50b9db3c",
   "metadata": {},
   "outputs": [],
   "source": [
    "nx.draw(us_graph, with_labels=True)"
   ]
  },
  {
   "cell_type": "code",
   "execution_count": null,
   "id": "72a469d8",
   "metadata": {},
   "outputs": [],
   "source": []
  }
 ],
 "metadata": {
  "kernelspec": {
   "display_name": "Python 3",
   "language": "python",
   "name": "python3"
  },
  "language_info": {
   "codemirror_mode": {
    "name": "ipython",
    "version": 3
   },
   "file_extension": ".py",
   "mimetype": "text/x-python",
   "name": "python",
   "nbconvert_exporter": "python",
   "pygments_lexer": "ipython3",
   "version": "3.8.8"
  }
 },
 "nbformat": 4,
 "nbformat_minor": 5
}
